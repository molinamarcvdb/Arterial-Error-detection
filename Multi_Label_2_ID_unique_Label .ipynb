{
 "cells": [
  {
   "cell_type": "code",
   "execution_count": 34,
   "id": "1b804771",
   "metadata": {},
   "outputs": [
    {
     "name": "stdout",
     "output_type": "stream",
     "text": [
      "\n"
     ]
    }
   ],
   "source": [
    "import openpyxl \n",
    "import os\n",
    "Excel_file = r\"C:\\Users\\marcm\\Desktop\\UNI\\Practiques_VHIR\\Docs\\Detected_Errors.xlsx\"\n",
    "caseDir = r\"C:\\Users\\marcm\\mypython\\Scripts\\arterial-main\\arterial\\Benchmarking\\database\"\n",
    "wb_label = openpyxl.load_workbook(filename = Excel_file)\n",
    "w_label = wb_label['Discontinuities']\n",
    "\n",
    "# Create folders \n",
    "IMG_Id = []\n",
    "index_caseID = 6 # offset\n",
    "print()\n",
    "# Get an array containing all the Images Id's and obtain the row in which we're gonna fill with the benchmarking results  \n",
    "row_offset = 6\n",
    "for idx in w_label.iter_rows(min_row = 6, max_row = 47, min_col = 1, max_col = 1 , values_only=True): \n",
    "    newpath = os.path.join(caseDir, f\"{str(idx)[1:9]}\")\n",
    "    if not os.path.exists(newpath):\n",
    "        os.makedirs(newpath) \n",
    "    wb = None\n",
    "    wb = openpyxl.Workbook()\n",
    "    w_dis = wb.active\n",
    "    # SET STRUCTURE\n",
    "    w_dis.cell(row = 1, column = 1, value = \"ID\")\n",
    "    # w_dis.cell(row = 2, column = 1, value = str(idx)[1:9])\n",
    "    w_dis.cell(row = 1, column = 2, value = \"LVA low\")\n",
    "    w_dis.cell(row = 1, column = 3, value = \"LVA mid\")\n",
    "    w_dis.cell(row = 1, column = 4, value = \"LVA high\")\n",
    "    w_dis.cell(row = 1, column = 5, value = \"RVA low\")\n",
    "    w_dis.cell(row = 1, column = 6, value = \"RVA mid\")\n",
    "    w_dis.cell(row = 1, column = 7, value = \"RVA high\")\n",
    "    w_dis.cell(row = 1, column = 8, value = \"LCCA/LICA\")\n",
    "    w_dis.cell(row = 1, column = 9, value = \"RCCA/RICA\")\n",
    "    # Copy values\n",
    "    for idy in range(1,10): \n",
    "        c = w_label.cell(row = row_offset, column = idy)\n",
    "        w_dis.cell(row = 2, column = idy).value = c.value\n",
    "   \n",
    "    wb.save(os.path.join(newpath, f\"Labeled_ID_{str(idx)[1:9]}.xlsx\"))\n",
    "    row_offset += 1\n",
    "    "
   ]
  }
 ],
 "metadata": {
  "kernelspec": {
   "display_name": "Python 3",
   "language": "python",
   "name": "python3"
  },
  "language_info": {
   "codemirror_mode": {
    "name": "ipython",
    "version": 3
   },
   "file_extension": ".py",
   "mimetype": "text/x-python",
   "name": "python",
   "nbconvert_exporter": "python",
   "pygments_lexer": "ipython3",
   "version": "3.6.7"
  }
 },
 "nbformat": 4,
 "nbformat_minor": 5
}
